{
  "nbformat": 4,
  "nbformat_minor": 0,
  "metadata": {
    "colab": {
      "name": "HyperMarket_Processing.ipynb",
      "provenance": [],
      "collapsed_sections": [],
      "include_colab_link": true
    },
    "kernelspec": {
      "name": "python3",
      "display_name": "Python 3"
    }
  },
  "cells": [
    {
      "cell_type": "markdown",
      "metadata": {
        "id": "view-in-github",
        "colab_type": "text"
      },
      "source": [
        "<a href=\"https://colab.research.google.com/github/Rosie-Ping/HyperMarket/blob/main/HyperMarket_Processing.ipynb\" target=\"_parent\"><img src=\"https://colab.research.google.com/assets/colab-badge.svg\" alt=\"Open In Colab\"/></a>"
      ]
    },
    {
      "cell_type": "code",
      "metadata": {
        "id": "SWW5KQ9BRYDQ",
        "colab": {
          "base_uri": "https://localhost:8080/"
        },
        "outputId": "92d3a1aa-90a3-4870-fb37-7896e4f85bcb"
      },
      "source": [
        "from google.colab import drive \n",
        "drive.mount('/content/drive')"
      ],
      "execution_count": null,
      "outputs": [
        {
          "output_type": "stream",
          "text": [
            "Mounted at /content/drive\n"
          ],
          "name": "stdout"
        }
      ]
    },
    {
      "cell_type": "code",
      "metadata": {
        "id": "GIU-6YNPR2x-"
      },
      "source": [
        "import pandas as pd\n",
        "import numpy as np\n",
        "import matplotlib.pyplot as plt\n",
        "import seaborn as sns"
      ],
      "execution_count": null,
      "outputs": []
    },
    {
      "cell_type": "code",
      "metadata": {
        "id": "8gTBOM6mDSDd"
      },
      "source": [
        "train_df = pd.read_csv('/content/drive/Shared drives/MSBA 446 Second Half/2-2B/OUTLET_TRAIN.csv')\n",
        "test_df = pd.read_csv('/content/drive/Shared drives/MSBA 446 Second Half/2-2B/OUTLET_TESTC.csv')"
      ],
      "execution_count": null,
      "outputs": []
    },
    {
      "cell_type": "markdown",
      "metadata": {
        "id": "2SjS9oipuDt7"
      },
      "source": [
        "#Data Exploration"
      ]
    },
    {
      "cell_type": "markdown",
      "metadata": {
        "id": "WCV4J2HT-fY5"
      },
      "source": [
        "有 missing value"
      ]
    },
    {
      "cell_type": "code",
      "metadata": {
        "id": "eqkAkiwOHbS4",
        "colab": {
          "base_uri": "https://localhost:8080/",
          "height": 308
        },
        "outputId": "2a8006af-d1bf-4824-880d-0f2229574015"
      },
      "source": [
        "train_df.head()"
      ],
      "execution_count": null,
      "outputs": [
        {
          "output_type": "execute_result",
          "data": {
            "text/html": [
              "<div>\n",
              "<style scoped>\n",
              "    .dataframe tbody tr th:only-of-type {\n",
              "        vertical-align: middle;\n",
              "    }\n",
              "\n",
              "    .dataframe tbody tr th {\n",
              "        vertical-align: top;\n",
              "    }\n",
              "\n",
              "    .dataframe thead th {\n",
              "        text-align: right;\n",
              "    }\n",
              "</style>\n",
              "<table border=\"1\" class=\"dataframe\">\n",
              "  <thead>\n",
              "    <tr style=\"text-align: right;\">\n",
              "      <th></th>\n",
              "      <th>Item_Identifier</th>\n",
              "      <th>Item_Weight</th>\n",
              "      <th>Item_Fat_Content</th>\n",
              "      <th>Item_Visibility</th>\n",
              "      <th>Item_Type</th>\n",
              "      <th>Item_MRP</th>\n",
              "      <th>Outlet_Identifier</th>\n",
              "      <th>Outlet_Establishment_Year</th>\n",
              "      <th>Outlet_Size</th>\n",
              "      <th>Outlet_Location_Type</th>\n",
              "      <th>Outlet_Type</th>\n",
              "      <th>Item_Outlet_Sales</th>\n",
              "      <th>RNUM</th>\n",
              "      <th>GROUP</th>\n",
              "    </tr>\n",
              "  </thead>\n",
              "  <tbody>\n",
              "    <tr>\n",
              "      <th>0</th>\n",
              "      <td>FDA15</td>\n",
              "      <td>9.3</td>\n",
              "      <td>Low Fat</td>\n",
              "      <td>0.016047</td>\n",
              "      <td>Dairy</td>\n",
              "      <td>249.8092</td>\n",
              "      <td>OUT049</td>\n",
              "      <td>1999</td>\n",
              "      <td>Medium</td>\n",
              "      <td>Tier 1</td>\n",
              "      <td>Supermarket Type1</td>\n",
              "      <td>3735.1380</td>\n",
              "      <td>0.139644</td>\n",
              "      <td>1</td>\n",
              "    </tr>\n",
              "    <tr>\n",
              "      <th>1</th>\n",
              "      <td>DRC01</td>\n",
              "      <td>5.92</td>\n",
              "      <td>Regular</td>\n",
              "      <td>0.019278</td>\n",
              "      <td>Soft Drinks</td>\n",
              "      <td>48.2692</td>\n",
              "      <td>OUT018</td>\n",
              "      <td>2009</td>\n",
              "      <td>Medium</td>\n",
              "      <td>Tier 3</td>\n",
              "      <td>Supermarket Type2</td>\n",
              "      <td>443.4228</td>\n",
              "      <td>0.431302</td>\n",
              "      <td>1</td>\n",
              "    </tr>\n",
              "    <tr>\n",
              "      <th>2</th>\n",
              "      <td>FDN15</td>\n",
              "      <td>17.5</td>\n",
              "      <td>Low Fat</td>\n",
              "      <td>0.016760</td>\n",
              "      <td>Meat</td>\n",
              "      <td>141.6180</td>\n",
              "      <td>OUT049</td>\n",
              "      <td>1999</td>\n",
              "      <td>Medium</td>\n",
              "      <td>Tier 1</td>\n",
              "      <td>Supermarket Type1</td>\n",
              "      <td>2097.2700</td>\n",
              "      <td>0.612179</td>\n",
              "      <td>1</td>\n",
              "    </tr>\n",
              "    <tr>\n",
              "      <th>3</th>\n",
              "      <td>FDX07</td>\n",
              "      <td>19.2</td>\n",
              "      <td>Regular</td>\n",
              "      <td>0.000000</td>\n",
              "      <td>Fruits and Vegetables</td>\n",
              "      <td>182.0950</td>\n",
              "      <td>OUT010</td>\n",
              "      <td>1998</td>\n",
              "      <td></td>\n",
              "      <td>Tier 3</td>\n",
              "      <td>Grocery Store</td>\n",
              "      <td>732.3800</td>\n",
              "      <td>0.290753</td>\n",
              "      <td>1</td>\n",
              "    </tr>\n",
              "    <tr>\n",
              "      <th>4</th>\n",
              "      <td>NCD19</td>\n",
              "      <td>8.93</td>\n",
              "      <td>Low Fat</td>\n",
              "      <td>0.000000</td>\n",
              "      <td>Household</td>\n",
              "      <td>53.8614</td>\n",
              "      <td>OUT013</td>\n",
              "      <td>1987</td>\n",
              "      <td>High</td>\n",
              "      <td>Tier 3</td>\n",
              "      <td>Supermarket Type1</td>\n",
              "      <td>994.7052</td>\n",
              "      <td>0.155732</td>\n",
              "      <td>1</td>\n",
              "    </tr>\n",
              "  </tbody>\n",
              "</table>\n",
              "</div>"
            ],
            "text/plain": [
              "  Item_Identifier Item_Weight  ...      RNUM  GROUP\n",
              "0           FDA15         9.3  ...  0.139644      1\n",
              "1           DRC01        5.92  ...  0.431302      1\n",
              "2           FDN15        17.5  ...  0.612179      1\n",
              "3           FDX07        19.2  ...  0.290753      1\n",
              "4           NCD19        8.93  ...  0.155732      1\n",
              "\n",
              "[5 rows x 14 columns]"
            ]
          },
          "metadata": {
            "tags": []
          },
          "execution_count": 5
        }
      ]
    },
    {
      "cell_type": "code",
      "metadata": {
        "id": "iLTh78oHCuR6",
        "colab": {
          "base_uri": "https://localhost:8080/"
        },
        "outputId": "3f65ce46-2729-4f8e-d236-7c7a147d5e7c"
      },
      "source": [
        "train_df.dtypes"
      ],
      "execution_count": null,
      "outputs": [
        {
          "output_type": "execute_result",
          "data": {
            "text/plain": [
              "Item_Identifier               object\n",
              "Item_Weight                   object\n",
              "Item_Fat_Content              object\n",
              "Item_Visibility              float64\n",
              "Item_Type                     object\n",
              "Item_MRP                     float64\n",
              "Outlet_Identifier             object\n",
              "Outlet_Establishment_Year      int64\n",
              "Outlet_Size                   object\n",
              "Outlet_Location_Type          object\n",
              "Outlet_Type                   object\n",
              "Item_Outlet_Sales            float64\n",
              "RNUM                         float64\n",
              "GROUP                          int64\n",
              "dtype: object"
            ]
          },
          "metadata": {
            "tags": []
          },
          "execution_count": 6
        }
      ]
    },
    {
      "cell_type": "code",
      "metadata": {
        "id": "QGx3mZr1LNcl"
      },
      "source": [
        "train_df = train_df.replace(' ',np.nan)\n",
        "test_df = test_df.replace(' ',np.nan)"
      ],
      "execution_count": null,
      "outputs": []
    },
    {
      "cell_type": "code",
      "metadata": {
        "id": "qsKs1V3ALRFY",
        "colab": {
          "base_uri": "https://localhost:8080/"
        },
        "outputId": "95c8915e-d019-4b11-c7b3-5223a2146714"
      },
      "source": [
        "print(train_df.isna().sum())\n",
        "print(test_df.isna().sum())"
      ],
      "execution_count": null,
      "outputs": [
        {
          "output_type": "stream",
          "text": [
            "Item_Identifier                 0\n",
            "Item_Weight                  1106\n",
            "Item_Fat_Content                0\n",
            "Item_Visibility                 0\n",
            "Item_Type                       0\n",
            "Item_MRP                        0\n",
            "Outlet_Identifier               0\n",
            "Outlet_Establishment_Year       0\n",
            "Outlet_Size                  1792\n",
            "Outlet_Location_Type            0\n",
            "Outlet_Type                     0\n",
            "Item_Outlet_Sales               0\n",
            "RNUM                            0\n",
            "GROUP                           0\n",
            "dtype: int64\n",
            "Item_Identifier                 0\n",
            "Item_Weight                   357\n",
            "Item_Fat_Content                0\n",
            "Item_Visibility                 0\n",
            "Item_Type                       0\n",
            "Item_MRP                        0\n",
            "Outlet_Identifier               0\n",
            "Outlet_Establishment_Year       0\n",
            "Outlet_Size                   618\n",
            "Outlet_Location_Type            0\n",
            "Outlet_Type                     0\n",
            "GROUP                           0\n",
            "Item_Outlet_Sales            2133\n",
            "dtype: int64\n"
          ],
          "name": "stdout"
        }
      ]
    },
    {
      "cell_type": "code",
      "metadata": {
        "id": "K1yscHaJC798",
        "colab": {
          "base_uri": "https://localhost:8080/"
        },
        "outputId": "b244d02a-6f6d-434d-eba5-f2a7858f2bd5"
      },
      "source": [
        "#separate numerical and categorical features\n",
        "numeric_features = train_df.select_dtypes(include=[np.number])\n",
        "print(numeric_features.dtypes)\n",
        "categorical_features = train_df.select_dtypes(include=[object])\n",
        "print(categorical_features.dtypes)"
      ],
      "execution_count": null,
      "outputs": [
        {
          "output_type": "stream",
          "text": [
            "Item_Visibility              float64\n",
            "Item_MRP                     float64\n",
            "Outlet_Establishment_Year      int64\n",
            "Item_Outlet_Sales            float64\n",
            "RNUM                         float64\n",
            "GROUP                          int64\n",
            "dtype: object\n",
            "Item_Identifier         object\n",
            "Item_Weight             object\n",
            "Item_Fat_Content        object\n",
            "Item_Type               object\n",
            "Outlet_Identifier       object\n",
            "Outlet_Size             object\n",
            "Outlet_Location_Type    object\n",
            "Outlet_Type             object\n",
            "dtype: object\n"
          ],
          "name": "stdout"
        }
      ]
    },
    {
      "cell_type": "code",
      "metadata": {
        "id": "YB3uOPfmHzlH",
        "colab": {
          "base_uri": "https://localhost:8080/",
          "height": 351
        },
        "outputId": "8c1137c3-9016-41ca-d362-6cefc23e267c"
      },
      "source": [
        "sns.countplot(train_df['Outlet_Size'])"
      ],
      "execution_count": null,
      "outputs": [
        {
          "output_type": "stream",
          "text": [
            "/usr/local/lib/python3.6/dist-packages/seaborn/_decorators.py:43: FutureWarning: Pass the following variable as a keyword arg: x. From version 0.12, the only valid positional argument will be `data`, and passing other arguments without an explicit keyword will result in an error or misinterpretation.\n",
            "  FutureWarning\n"
          ],
          "name": "stderr"
        },
        {
          "output_type": "execute_result",
          "data": {
            "text/plain": [
              "<matplotlib.axes._subplots.AxesSubplot at 0x7ff4f6711470>"
            ]
          },
          "metadata": {
            "tags": []
          },
          "execution_count": 41
        },
        {
          "output_type": "display_data",
          "data": {
            "image/png": "[encoded data removed]",
            "text/plain": [
              "<Figure size 432x288 with 1 Axes>"
            ]
          },
          "metadata": {
            "tags": [],
            "needs_background": "light"
          }
        }
      ]
    },
    {
      "cell_type": "code",
      "metadata": {
        "id": "R56oFEYWGbD6",
        "colab": {
          "base_uri": "https://localhost:8080/",
          "height": 351
        },
        "outputId": "d3e77712-5e45-4f27-9a31-7ba90ec2e057"
      },
      "source": [
        "sns.countplot(train_df['Outlet_Location_Type'])"
      ],
      "execution_count": null,
      "outputs": [
        {
          "output_type": "stream",
          "text": [
            "/usr/local/lib/python3.6/dist-packages/seaborn/_decorators.py:43: FutureWarning: Pass the following variable as a keyword arg: x. From version 0.12, the only valid positional argument will be `data`, and passing other arguments without an explicit keyword will result in an error or misinterpretation.\n",
            "  FutureWarning\n"
          ],
          "name": "stderr"
        },
        {
          "output_type": "execute_result",
          "data": {
            "text/plain": [
              "<matplotlib.axes._subplots.AxesSubplot at 0x7ff4f658d780>"
            ]
          },
          "metadata": {
            "tags": []
          },
          "execution_count": 23
        },
        {
          "output_type": "display_data",
          "data": {
            "image/png": "[encoded data removed]",
            "text/plain": [
              "<Figure size 432x288 with 1 Axes>"
            ]
          },
          "metadata": {
            "tags": [],
            "needs_background": "light"
          }
        }
      ]
    },
    {
      "cell_type": "code",
      "metadata": {
        "id": "n1rUU5K2RZBk",
        "colab": {
          "base_uri": "https://localhost:8080/",
          "height": 351
        },
        "outputId": "694bd4d0-d253-4a10-bd8d-a1ed916e20c0"
      },
      "source": [
        "sns.countplot(train_df['Item_Fat_Content'])"
      ],
      "execution_count": null,
      "outputs": [
        {
          "output_type": "stream",
          "text": [
            "/usr/local/lib/python3.6/dist-packages/seaborn/_decorators.py:43: FutureWarning: Pass the following variable as a keyword arg: x. From version 0.12, the only valid positional argument will be `data`, and passing other arguments without an explicit keyword will result in an error or misinterpretation.\n",
            "  FutureWarning\n"
          ],
          "name": "stderr"
        },
        {
          "output_type": "execute_result",
          "data": {
            "text/plain": [
              "<matplotlib.axes._subplots.AxesSubplot at 0x7ff4f73f31d0>"
            ]
          },
          "metadata": {
            "tags": []
          },
          "execution_count": 22
        },
        {
          "output_type": "display_data",
          "data": {
            "image/png": "[encoded data removed]",
            "text/plain": [
              "<Figure size 432x288 with 1 Axes>"
            ]
          },
          "metadata": {
            "tags": [],
            "needs_background": "light"
          }
        }
      ]
    },
    {
      "cell_type": "code",
      "metadata": {
        "id": "qEOfJKTBVjNO",
        "colab": {
          "base_uri": "https://localhost:8080/",
          "height": 161
        },
        "outputId": "b4e7743e-07a8-4031-f510-20abe777e6b5"
      },
      "source": [
        "na_weight = train_df[train_df['Item_Weight'].isna()]\n",
        "na_weight.groupby('Outlet_Identifier').count()"
      ],
      "execution_count": null,
      "outputs": [
        {
          "output_type": "execute_result",
          "data": {
            "text/html": [
              "<div>\n",
              "<style scoped>\n",
              "    .dataframe tbody tr th:only-of-type {\n",
              "        vertical-align: middle;\n",
              "    }\n",
              "\n",
              "    .dataframe tbody tr th {\n",
              "        vertical-align: top;\n",
              "    }\n",
              "\n",
              "    .dataframe thead th {\n",
              "        text-align: right;\n",
              "    }\n",
              "</style>\n",
              "<table border=\"1\" class=\"dataframe\">\n",
              "  <thead>\n",
              "    <tr style=\"text-align: right;\">\n",
              "      <th></th>\n",
              "      <th>Item_Identifier</th>\n",
              "      <th>Item_Weight</th>\n",
              "      <th>Item_Fat_Content</th>\n",
              "      <th>Item_Visibility</th>\n",
              "      <th>Item_Type</th>\n",
              "      <th>Item_MRP</th>\n",
              "      <th>Outlet_Establishment_Year</th>\n",
              "      <th>Outlet_Size</th>\n",
              "      <th>Outlet_Location_Type</th>\n",
              "      <th>Outlet_Type</th>\n",
              "      <th>Item_Outlet_Sales</th>\n",
              "      <th>RNUM</th>\n",
              "      <th>GROUP</th>\n",
              "    </tr>\n",
              "    <tr>\n",
              "      <th>Outlet_Identifier</th>\n",
              "      <th></th>\n",
              "      <th></th>\n",
              "      <th></th>\n",
              "      <th></th>\n",
              "      <th></th>\n",
              "      <th></th>\n",
              "      <th></th>\n",
              "      <th></th>\n",
              "      <th></th>\n",
              "      <th></th>\n",
              "      <th></th>\n",
              "      <th></th>\n",
              "      <th></th>\n",
              "    </tr>\n",
              "  </thead>\n",
              "  <tbody>\n",
              "    <tr>\n",
              "      <th>OUT019</th>\n",
              "      <td>418</td>\n",
              "      <td>0</td>\n",
              "      <td>418</td>\n",
              "      <td>418</td>\n",
              "      <td>418</td>\n",
              "      <td>418</td>\n",
              "      <td>418</td>\n",
              "      <td>418</td>\n",
              "      <td>418</td>\n",
              "      <td>418</td>\n",
              "      <td>418</td>\n",
              "      <td>418</td>\n",
              "      <td>418</td>\n",
              "    </tr>\n",
              "    <tr>\n",
              "      <th>OUT027</th>\n",
              "      <td>688</td>\n",
              "      <td>0</td>\n",
              "      <td>688</td>\n",
              "      <td>688</td>\n",
              "      <td>688</td>\n",
              "      <td>688</td>\n",
              "      <td>688</td>\n",
              "      <td>688</td>\n",
              "      <td>688</td>\n",
              "      <td>688</td>\n",
              "      <td>688</td>\n",
              "      <td>688</td>\n",
              "      <td>688</td>\n",
              "    </tr>\n",
              "  </tbody>\n",
              "</table>\n",
              "</div>"
            ],
            "text/plain": [
              "                   Item_Identifier  Item_Weight  ...  RNUM  GROUP\n",
              "Outlet_Identifier                                ...             \n",
              "OUT019                         418            0  ...   418    418\n",
              "OUT027                         688            0  ...   688    688\n",
              "\n",
              "[2 rows x 13 columns]"
            ]
          },
          "metadata": {
            "tags": []
          },
          "execution_count": 8
        }
      ]
    },
    {
      "cell_type": "code",
      "metadata": {
        "id": "jLPblmcAZrSr",
        "colab": {
          "base_uri": "https://localhost:8080/"
        },
        "outputId": "9c72521a-83b8-4019-ead6-e3bd703bf942"
      },
      "source": [
        "print(len(train_df[train_df['Outlet_Identifier']=='OUT019']))\n",
        "print(len(train_df[train_df['Outlet_Identifier']=='OUT027']))"
      ],
      "execution_count": null,
      "outputs": [
        {
          "output_type": "stream",
          "text": [
            "418\n",
            "688\n"
          ],
          "name": "stdout"
        }
      ]
    },
    {
      "cell_type": "code",
      "metadata": {
        "id": "eFucBZrTWV3e",
        "colab": {
          "base_uri": "https://localhost:8080/",
          "height": 192
        },
        "outputId": "f7dc4c0d-8d67-4652-f777-eabeb9703c40"
      },
      "source": [
        "na_outletsize = train_df[train_df['Outlet_Size'].isna()]\n",
        "na_outletsize.groupby('Outlet_Identifier').count()"
      ],
      "execution_count": null,
      "outputs": [
        {
          "output_type": "execute_result",
          "data": {
            "text/html": [
              "<div>\n",
              "<style scoped>\n",
              "    .dataframe tbody tr th:only-of-type {\n",
              "        vertical-align: middle;\n",
              "    }\n",
              "\n",
              "    .dataframe tbody tr th {\n",
              "        vertical-align: top;\n",
              "    }\n",
              "\n",
              "    .dataframe thead th {\n",
              "        text-align: right;\n",
              "    }\n",
              "</style>\n",
              "<table border=\"1\" class=\"dataframe\">\n",
              "  <thead>\n",
              "    <tr style=\"text-align: right;\">\n",
              "      <th></th>\n",
              "      <th>Item_Identifier</th>\n",
              "      <th>Item_Weight</th>\n",
              "      <th>Item_Fat_Content</th>\n",
              "      <th>Item_Visibility</th>\n",
              "      <th>Item_Type</th>\n",
              "      <th>Item_MRP</th>\n",
              "      <th>Outlet_Establishment_Year</th>\n",
              "      <th>Outlet_Size</th>\n",
              "      <th>Outlet_Location_Type</th>\n",
              "      <th>Outlet_Type</th>\n",
              "      <th>Item_Outlet_Sales</th>\n",
              "      <th>RNUM</th>\n",
              "      <th>GROUP</th>\n",
              "    </tr>\n",
              "    <tr>\n",
              "      <th>Outlet_Identifier</th>\n",
              "      <th></th>\n",
              "      <th></th>\n",
              "      <th></th>\n",
              "      <th></th>\n",
              "      <th></th>\n",
              "      <th></th>\n",
              "      <th></th>\n",
              "      <th></th>\n",
              "      <th></th>\n",
              "      <th></th>\n",
              "      <th></th>\n",
              "      <th></th>\n",
              "      <th></th>\n",
              "    </tr>\n",
              "  </thead>\n",
              "  <tbody>\n",
              "    <tr>\n",
              "      <th>OUT010</th>\n",
              "      <td>419</td>\n",
              "      <td>419</td>\n",
              "      <td>419</td>\n",
              "      <td>419</td>\n",
              "      <td>419</td>\n",
              "      <td>419</td>\n",
              "      <td>419</td>\n",
              "      <td>0</td>\n",
              "      <td>419</td>\n",
              "      <td>419</td>\n",
              "      <td>419</td>\n",
              "      <td>419</td>\n",
              "      <td>419</td>\n",
              "    </tr>\n",
              "    <tr>\n",
              "      <th>OUT017</th>\n",
              "      <td>688</td>\n",
              "      <td>688</td>\n",
              "      <td>688</td>\n",
              "      <td>688</td>\n",
              "      <td>688</td>\n",
              "      <td>688</td>\n",
              "      <td>688</td>\n",
              "      <td>0</td>\n",
              "      <td>688</td>\n",
              "      <td>688</td>\n",
              "      <td>688</td>\n",
              "      <td>688</td>\n",
              "      <td>688</td>\n",
              "    </tr>\n",
              "    <tr>\n",
              "      <th>OUT045</th>\n",
              "      <td>685</td>\n",
              "      <td>685</td>\n",
              "      <td>685</td>\n",
              "      <td>685</td>\n",
              "      <td>685</td>\n",
              "      <td>685</td>\n",
              "      <td>685</td>\n",
              "      <td>0</td>\n",
              "      <td>685</td>\n",
              "      <td>685</td>\n",
              "      <td>685</td>\n",
              "      <td>685</td>\n",
              "      <td>685</td>\n",
              "    </tr>\n",
              "  </tbody>\n",
              "</table>\n",
              "</div>"
            ],
            "text/plain": [
              "                   Item_Identifier  Item_Weight  ...  RNUM  GROUP\n",
              "Outlet_Identifier                                ...             \n",
              "OUT010                         419          419  ...   419    419\n",
              "OUT017                         688          688  ...   688    688\n",
              "OUT045                         685          685  ...   685    685\n",
              "\n",
              "[3 rows x 13 columns]"
            ]
          },
          "metadata": {
            "tags": []
          },
          "execution_count": 9
        }
      ]
    },
    {
      "cell_type": "code",
      "metadata": {
        "id": "f9PMhnioZDf2",
        "colab": {
          "base_uri": "https://localhost:8080/"
        },
        "outputId": "ee0d3f1b-cd9a-40b6-f709-8eb4cafd440c"
      },
      "source": [
        "print(len(train_df[train_df['Outlet_Identifier']=='OUT010']))\n",
        "print(len(train_df[train_df['Outlet_Identifier']=='OUT017']))\n",
        "print(len(train_df[train_df['Outlet_Identifier']=='OUT045']))"
      ],
      "execution_count": null,
      "outputs": [
        {
          "output_type": "stream",
          "text": [
            "419\n",
            "688\n",
            "685\n"
          ],
          "name": "stdout"
        }
      ]
    },
    {
      "cell_type": "code",
      "metadata": {
        "id": "4qAUSV_lf3mi",
        "colab": {
          "base_uri": "https://localhost:8080/"
        },
        "outputId": "69fa7a1e-2c50-415b-e2d1-45e258e628d6"
      },
      "source": [
        "train_df.groupby(['Outlet_Identifier','Outlet_Type','Outlet_Establishment_Year','Outlet_Location_Type']).size()"
      ],
      "execution_count": null,
      "outputs": [
        {
          "output_type": "execute_result",
          "data": {
            "text/plain": [
              "Outlet_Identifier  Outlet_Type        Outlet_Establishment_Year  Outlet_Location_Type\n",
              "OUT010             Grocery Store      1998                       Tier 3                  419\n",
              "OUT013             Supermarket Type1  1987                       Tier 3                  678\n",
              "OUT017             Supermarket Type1  2007                       Tier 2                  688\n",
              "OUT018             Supermarket Type2  2009                       Tier 3                  715\n",
              "OUT019             Grocery Store      1985                       Tier 1                  418\n",
              "OUT027             Supermarket Type3  1985                       Tier 3                  688\n",
              "OUT035             Supermarket Type1  2004                       Tier 2                  703\n",
              "OUT045             Supermarket Type1  2002                       Tier 2                  685\n",
              "OUT046             Supermarket Type1  1997                       Tier 1                  701\n",
              "OUT049             Supermarket Type1  1999                       Tier 1                  695\n",
              "dtype: int64"
            ]
          },
          "metadata": {
            "tags": []
          },
          "execution_count": 36
        }
      ]
    },
    {
      "cell_type": "markdown",
      "metadata": {
        "id": "YOPGmxGAn4Re"
      },
      "source": [
        "##Match train and test dataset"
      ]
    },
    {
      "cell_type": "code",
      "metadata": {
        "id": "daqyq0rJm_r9",
        "colab": {
          "base_uri": "https://localhost:8080/"
        },
        "outputId": "98336b9c-d732-4c56-e89e-1bf1cf1b72dc"
      },
      "source": [
        "print(np.sort(train_df['Outlet_Identifier'].unique()))\n",
        "print(np.sort(test_df['Outlet_Identifier'].unique()))"
      ],
      "execution_count": null,
      "outputs": [
        {
          "output_type": "stream",
          "text": [
            "['OUT010' 'OUT013' 'OUT017' 'OUT018' 'OUT019' 'OUT027' 'OUT035' 'OUT045'\n",
            " 'OUT046' 'OUT049']\n",
            "['OUT010' 'OUT013' 'OUT017' 'OUT018' 'OUT019' 'OUT027' 'OUT035' 'OUT045'\n",
            " 'OUT046' 'OUT049']\n"
          ],
          "name": "stdout"
        }
      ]
    },
    {
      "cell_type": "code",
      "metadata": {
        "id": "2nvRVQW5Q6XR"
      },
      "source": [
        "train_id_unq = train_df['Item_Identifier'].unique()\n",
        "test_id_unq = test_df['Item_Identifier'].unique()"
      ],
      "execution_count": null,
      "outputs": []
    },
    {
      "cell_type": "code",
      "metadata": {
        "id": "lENPnDUJUHI7",
        "colab": {
          "base_uri": "https://localhost:8080/"
        },
        "outputId": "7d3551b4-960a-4bcc-898b-c0d2a1059475"
      },
      "source": [
        "len(np.intersect1d(train_id_unq,test_id_unq))"
      ],
      "execution_count": null,
      "outputs": [
        {
          "output_type": "execute_result",
          "data": {
            "text/plain": [
              "1199"
            ]
          },
          "metadata": {
            "tags": []
          },
          "execution_count": 33
        }
      ]
    },
    {
      "cell_type": "code",
      "metadata": {
        "id": "3NDosm1oRBN9",
        "colab": {
          "base_uri": "https://localhost:8080/"
        },
        "outputId": "55bd8b1d-73d4-486a-c356-fa176430b938"
      },
      "source": [
        "len(np.setdiff1d(train_id_unq,test_id_unq))"
      ],
      "execution_count": null,
      "outputs": [
        {
          "output_type": "execute_result",
          "data": {
            "text/plain": [
              "356"
            ]
          },
          "metadata": {
            "tags": []
          },
          "execution_count": 34
        }
      ]
    },
    {
      "cell_type": "code",
      "metadata": {
        "id": "SDm6HGnQoG5y",
        "colab": {
          "base_uri": "https://localhost:8080/"
        },
        "outputId": "8d9c39a9-5a19-4c9b-987f-93739396da8e"
      },
      "source": [
        "#in test, not in train\n",
        "len(np.setdiff1d(test_id_unq,train_id_unq))"
      ],
      "execution_count": null,
      "outputs": [
        {
          "output_type": "execute_result",
          "data": {
            "text/plain": [
              "4"
            ]
          },
          "metadata": {
            "tags": []
          },
          "execution_count": 35
        }
      ]
    },
    {
      "cell_type": "code",
      "metadata": {
        "id": "k04eqXjIxxta",
        "colab": {
          "base_uri": "https://localhost:8080/"
        },
        "outputId": "6c4cedd4-3465-4d42-cac7-85fce8e161e0"
      },
      "source": [
        "for i in categorical_features.columns:\n",
        "  print(i)\n",
        "  print(np.setdiff1d(train_df[i].unique(),test_df[i].unique()))"
      ],
      "execution_count": null,
      "outputs": [
        {
          "output_type": "stream",
          "text": [
            "Item_Identifier\n",
            "['DRC25' 'DRD12' 'DRE01' 'DRE37' 'DRF51' 'DRG11' 'DRG23' 'DRG27' 'DRH03'\n",
            " 'DRH15' 'DRH23' 'DRH37' 'DRH59' 'DRI01' 'DRI13' 'DRI23' 'DRI25' 'DRI51'\n",
            " 'DRI59' 'DRJ37' 'DRK01' 'DRK11' 'DRK37' 'DRM49' 'DRM59' 'DRN11' 'DRN35'\n",
            " 'DRN36' 'DRN37' 'DRN47' 'DRN59' 'DRO59' 'DRZ11' 'DRZ24' 'FDA03' 'FDA16'\n",
            " 'FDA20' 'FDA22' 'FDA25' 'FDA31' 'FDA35' 'FDA37' 'FDA51' 'FDB03' 'FDB04'\n",
            " 'FDB08' 'FDB10' 'FDB14' 'FDB20' 'FDB22' 'FDB28' 'FDB33' 'FDB36' 'FDB38'\n",
            " 'FDB50' 'FDC20' 'FDC22' 'FDC23' 'FDC33' 'FDC38' 'FDC56' 'FDD02' 'FDD10'\n",
            " 'FDD20' 'FDD22' 'FDD28' 'FDD34' 'FDD35' 'FDD44' 'FDD45' 'FDD53' 'FDD56'\n",
            " 'FDE09' 'FDE10' 'FDE20' 'FDE21' 'FDE35' 'FDE38' 'FDE39' 'FDE40' 'FDE45'\n",
            " 'FDE51' 'FDE52' 'FDF17' 'FDF29' 'FDF34' 'FDF35' 'FDF38' 'FDF39' 'FDF50'\n",
            " 'FDG14' 'FDG21' 'FDG22' 'FDG38' 'FDG57' 'FDG59' 'FDH12' 'FDH20' 'FDH21'\n",
            " 'FDH24' 'FDH31' 'FDH35' 'FDH38' 'FDH46' 'FDH53' 'FDH60' 'FDI05' 'FDI09'\n",
            " 'FDI27' 'FDI32' 'FDI35' 'FDI36' 'FDI38' 'FDI44' 'FDI46' 'FDI56' 'FDJ07'\n",
            " 'FDJ15' 'FDJ26' 'FDJ33' 'FDJ38' 'FDJ40' 'FDJ50' 'FDJ55' 'FDK02' 'FDK20'\n",
            " 'FDK21' 'FDK22' 'FDK27' 'FDK32' 'FDK33' 'FDK51' 'FDK57' 'FDL13' 'FDL14'\n",
            " 'FDL25' 'FDL26' 'FDL28' 'FDL48' 'FDL50' 'FDL57' 'FDM13' 'FDM14' 'FDM16'\n",
            " 'FDM22' 'FDM24' 'FDM56' 'FDN10' 'FDN16' 'FDN22' 'FDN27' 'FDN32' 'FDN33'\n",
            " 'FDN44' 'FDN50' 'FDN56' 'FDO01' 'FDO03' 'FDO09' 'FDO13' 'FDO20' 'FDO21'\n",
            " 'FDO25' 'FDO28' 'FDO44' 'FDO49' 'FDO56' 'FDP15' 'FDP16' 'FDP23' 'FDP25'\n",
            " 'FDP36' 'FDP37' 'FDP38' 'FDP39' 'FDP51' 'FDP52' 'FDQ04' 'FDQ16' 'FDQ24'\n",
            " 'FDQ60' 'FDR03' 'FDR13' 'FDR16' 'FDR19' 'FDR20' 'FDR28' 'FDR31' 'FDR57'\n",
            " 'FDS02' 'FDS20' 'FDS23' 'FDS28' 'FDS40' 'FDS49' 'FDS57' 'FDS60' 'FDT01'\n",
            " 'FDT08' 'FDT12' 'FDT16' 'FDT28' 'FDT33' 'FDT35' 'FDT44' 'FDT47' 'FDT51'\n",
            " 'FDU01' 'FDU08' 'FDU11' 'FDU14' 'FDU15' 'FDU16' 'FDU21' 'FDU27' 'FDU37'\n",
            " 'FDU38' 'FDU39' 'FDU40' 'FDU43' 'FDU47' 'FDU48' 'FDU49' 'FDU52' 'FDU59'\n",
            " 'FDU60' 'FDV01' 'FDV07' 'FDV08' 'FDV11' 'FDV12' 'FDV23' 'FDV24' 'FDV27'\n",
            " 'FDV28' 'FDV31' 'FDV36' 'FDV40' 'FDV52' 'FDV55' 'FDW04' 'FDW10' 'FDW14'\n",
            " 'FDW15' 'FDW16' 'FDW22' 'FDW37' 'FDW43' 'FDW55' 'FDW57' 'FDW58' 'FDW59'\n",
            " 'FDW60' 'FDX12' 'FDX38' 'FDX51' 'FDX57' 'FDX60' 'FDY02' 'FDY04' 'FDY07'\n",
            " 'FDY08' 'FDY09' 'FDY13' 'FDY16' 'FDY19' 'FDY34' 'FDY43' 'FDY46' 'FDY48'\n",
            " 'FDZ01' 'FDZ04' 'FDZ07' 'FDZ12' 'FDZ19' 'FDZ20' 'FDZ25' 'FDZ27' 'FDZ28'\n",
            " 'FDZ33' 'FDZ36' 'FDZ39' 'FDZ50' 'FDZ60' 'NCA17' 'NCB07' 'NCB31' 'NCB43'\n",
            " 'NCB54' 'NCB55' 'NCC06' 'NCC18' 'NCC19' 'NCC43' 'NCC54' 'NCD07' 'NCD31'\n",
            " 'NCD43' 'NCD55' 'NCE18' 'NCE42' 'NCE54' 'NCE55' 'NCF06' 'NCF07' 'NCF19'\n",
            " 'NCF31' 'NCF55' 'NCG19' 'NCH18' 'NCH55' 'NCI17' 'NCI42' 'NCI43' 'NCJ06'\n",
            " 'NCJ29' 'NCJ31' 'NCJ42' 'NCJ43' 'NCL54' 'NCM18' 'NCM41' 'NCM42' 'NCM55'\n",
            " 'NCN42' 'NCN54' 'NCO30' 'NCO41' 'NCO43' 'NCP05' 'NCP17' 'NCP41' 'NCP54'\n",
            " 'NCQ02' 'NCQ18' 'NCR06' 'NCS41' 'NCS42' 'NCS54' 'NCT05' 'NCT18' 'NCT53'\n",
            " 'NCU29' 'NCU41' 'NCV30' 'NCV53' 'NCW05' 'NCW18' 'NCW30' 'NCX05' 'NCX17'\n",
            " 'NCY05' 'NCY17' 'NCY41' 'NCY42' 'NCZ53']\n",
            "Item_Fat_Content\n",
            "[]\n",
            "Item_Type\n",
            "[]\n",
            "Outlet_Identifier\n",
            "[]\n",
            "Outlet_Location_Type\n",
            "[]\n",
            "Outlet_Type\n",
            "[]\n"
          ],
          "name": "stdout"
        }
      ]
    },
    {
      "cell_type": "code",
      "metadata": {
        "id": "um8fFqO4zhmj",
        "colab": {
          "base_uri": "https://localhost:8080/"
        },
        "outputId": "b0dc0ff4-b17b-4d67-fb15-31f75690f36e"
      },
      "source": [
        "s = np.array(train_df['Item_Identifier'])\n",
        "k = []\n",
        "for i in s:\n",
        "  k.append(i[0:2])\n",
        "#print(k)\n",
        "\n",
        "train_df['Item_carcode'] = k\n",
        "train_df.groupby(['Item_carcode','Item_Type']).size()"
      ],
      "execution_count": null,
      "outputs": [
        {
          "output_type": "execute_result",
          "data": {
            "text/plain": [
              "Item_carcode  Item_Type            \n",
              "DR            Dairy                    102\n",
              "              Hard Drinks              167\n",
              "              Soft Drinks              328\n",
              "FD            Baking Goods             495\n",
              "              Breads                   184\n",
              "              Breakfast                 84\n",
              "              Canned                   501\n",
              "              Dairy                    400\n",
              "              Frozen Foods             645\n",
              "              Fruits and Vegetables    926\n",
              "              Meat                     318\n",
              "              Seafood                   50\n",
              "              Snack Foods              862\n",
              "              Starchy Foods            116\n",
              "NC            Health and Hygiene       405\n",
              "              Household                683\n",
              "              Others                   124\n",
              "dtype: int64"
            ]
          },
          "metadata": {
            "tags": []
          },
          "execution_count": 109
        }
      ]
    },
    {
      "cell_type": "code",
      "metadata": {
        "id": "434XB8AKhsXw"
      },
      "source": [
        "#remove NA\n",
        "#train_df = train_df.drop(columns=['Item_Weight','Outlet_Size'])"
      ],
      "execution_count": null,
      "outputs": []
    },
    {
      "cell_type": "code",
      "metadata": {
        "id": "A3YWq_pvJL2A",
        "colab": {
          "base_uri": "https://localhost:8080/"
        },
        "outputId": "95b57ca0-9655-4b9c-8272-adb102b99fb2"
      },
      "source": [
        "train_df.dtypes"
      ],
      "execution_count": null,
      "outputs": [
        {
          "output_type": "execute_result",
          "data": {
            "text/plain": [
              "Item_Identifier               object\n",
              "Item_Weight                   object\n",
              "Item_Fat_Content              object\n",
              "Item_Visibility              float64\n",
              "Item_Type                     object\n",
              "Item_MRP                     float64\n",
              "Outlet_Identifier             object\n",
              "Outlet_Establishment_Year      int64\n",
              "Outlet_Size                   object\n",
              "Outlet_Location_Type          object\n",
              "Outlet_Type                   object\n",
              "Item_Outlet_Sales            float64\n",
              "RNUM                         float64\n",
              "GROUP                          int64\n",
              "Item_carcode                  object\n",
              "dtype: object"
            ]
          },
          "metadata": {
            "tags": []
          },
          "execution_count": 48
        }
      ]
    },
    {
      "cell_type": "code",
      "metadata": {
        "id": "kk3KNm6tkTjK",
        "colab": {
          "base_uri": "https://localhost:8080/"
        },
        "outputId": "d8460921-8ddf-4987-da25-2de7609c0c34"
      },
      "source": [
        "categorical_features.columns"
      ],
      "execution_count": null,
      "outputs": [
        {
          "output_type": "execute_result",
          "data": {
            "text/plain": [
              "Index(['Item_Identifier', 'Item_Weight', 'Item_Fat_Content', 'Item_Type',\n",
              "       'Outlet_Identifier', 'Outlet_Size', 'Outlet_Location_Type',\n",
              "       'Outlet_Type'],\n",
              "      dtype='object')"
            ]
          },
          "metadata": {
            "tags": []
          },
          "execution_count": 15
        }
      ]
    },
    {
      "cell_type": "code",
      "metadata": {
        "id": "Y_ecJnB8HqR0",
        "colab": {
          "base_uri": "https://localhost:8080/",
          "height": 295
        },
        "outputId": "6c11822e-8e44-4a88-f631-74517ee2b6e7"
      },
      "source": [
        "data.describe()"
      ],
      "execution_count": null,
      "outputs": [
        {
          "output_type": "execute_result",
          "data": {
            "text/html": [
              "<div>\n",
              "<style scoped>\n",
              "    .dataframe tbody tr th:only-of-type {\n",
              "        vertical-align: middle;\n",
              "    }\n",
              "\n",
              "    .dataframe tbody tr th {\n",
              "        vertical-align: top;\n",
              "    }\n",
              "\n",
              "    .dataframe thead th {\n",
              "        text-align: right;\n",
              "    }\n",
              "</style>\n",
              "<table border=\"1\" class=\"dataframe\">\n",
              "  <thead>\n",
              "    <tr style=\"text-align: right;\">\n",
              "      <th></th>\n",
              "      <th>Item_Visibility</th>\n",
              "      <th>Item_MRP</th>\n",
              "      <th>Item_Outlet_Sales</th>\n",
              "      <th>RNUM</th>\n",
              "    </tr>\n",
              "  </thead>\n",
              "  <tbody>\n",
              "    <tr>\n",
              "      <th>count</th>\n",
              "      <td>6390.000000</td>\n",
              "      <td>6390.000000</td>\n",
              "      <td>6390.000000</td>\n",
              "      <td>6390.000000</td>\n",
              "    </tr>\n",
              "    <tr>\n",
              "      <th>mean</th>\n",
              "      <td>0.066200</td>\n",
              "      <td>141.213306</td>\n",
              "      <td>2183.682296</td>\n",
              "      <td>0.375272</td>\n",
              "    </tr>\n",
              "    <tr>\n",
              "      <th>std</th>\n",
              "      <td>0.052097</td>\n",
              "      <td>62.427149</td>\n",
              "      <td>1719.242009</td>\n",
              "      <td>0.217642</td>\n",
              "    </tr>\n",
              "    <tr>\n",
              "      <th>min</th>\n",
              "      <td>0.000000</td>\n",
              "      <td>31.290000</td>\n",
              "      <td>33.290000</td>\n",
              "      <td>0.000015</td>\n",
              "    </tr>\n",
              "    <tr>\n",
              "      <th>25%</th>\n",
              "      <td>0.026815</td>\n",
              "      <td>93.719900</td>\n",
              "      <td>825.758450</td>\n",
              "      <td>0.186405</td>\n",
              "    </tr>\n",
              "    <tr>\n",
              "      <th>50%</th>\n",
              "      <td>0.053564</td>\n",
              "      <td>143.397000</td>\n",
              "      <td>1789.670400</td>\n",
              "      <td>0.373493</td>\n",
              "    </tr>\n",
              "    <tr>\n",
              "      <th>75%</th>\n",
              "      <td>0.094458</td>\n",
              "      <td>186.091750</td>\n",
              "      <td>3111.949200</td>\n",
              "      <td>0.565914</td>\n",
              "    </tr>\n",
              "    <tr>\n",
              "      <th>max</th>\n",
              "      <td>0.328391</td>\n",
              "      <td>266.888400</td>\n",
              "      <td>13086.964800</td>\n",
              "      <td>0.749965</td>\n",
              "    </tr>\n",
              "  </tbody>\n",
              "</table>\n",
              "</div>"
            ],
            "text/plain": [
              "       Item_Visibility     Item_MRP  Item_Outlet_Sales         RNUM\n",
              "count      6390.000000  6390.000000        6390.000000  6390.000000\n",
              "mean          0.066200   141.213306        2183.682296     0.375272\n",
              "std           0.052097    62.427149        1719.242009     0.217642\n",
              "min           0.000000    31.290000          33.290000     0.000015\n",
              "25%           0.026815    93.719900         825.758450     0.186405\n",
              "50%           0.053564   143.397000        1789.670400     0.373493\n",
              "75%           0.094458   186.091750        3111.949200     0.565914\n",
              "max           0.328391   266.888400       13086.964800     0.749965"
            ]
          },
          "metadata": {
            "tags": []
          },
          "execution_count": 28
        }
      ]
    },
    {
      "cell_type": "code",
      "metadata": {
        "id": "o8wI9d9zIJfQ",
        "colab": {
          "base_uri": "https://localhost:8080/",
          "height": 172
        },
        "outputId": "7b544399-1ef1-4d25-bb05-eb0ecc58ffb7"
      },
      "source": [
        "numeric_features.corr()"
      ],
      "execution_count": null,
      "outputs": [
        {
          "output_type": "execute_result",
          "data": {
            "text/html": [
              "<div>\n",
              "<style scoped>\n",
              "    .dataframe tbody tr th:only-of-type {\n",
              "        vertical-align: middle;\n",
              "    }\n",
              "\n",
              "    .dataframe tbody tr th {\n",
              "        vertical-align: top;\n",
              "    }\n",
              "\n",
              "    .dataframe thead th {\n",
              "        text-align: right;\n",
              "    }\n",
              "</style>\n",
              "<table border=\"1\" class=\"dataframe\">\n",
              "  <thead>\n",
              "    <tr style=\"text-align: right;\">\n",
              "      <th></th>\n",
              "      <th>Item_Visibility</th>\n",
              "      <th>Item_MRP</th>\n",
              "      <th>Item_Outlet_Sales</th>\n",
              "      <th>RNUM</th>\n",
              "    </tr>\n",
              "  </thead>\n",
              "  <tbody>\n",
              "    <tr>\n",
              "      <th>Item_Visibility</th>\n",
              "      <td>1.000000</td>\n",
              "      <td>-0.004552</td>\n",
              "      <td>-0.140577</td>\n",
              "      <td>-0.005946</td>\n",
              "    </tr>\n",
              "    <tr>\n",
              "      <th>Item_MRP</th>\n",
              "      <td>-0.004552</td>\n",
              "      <td>1.000000</td>\n",
              "      <td>0.567055</td>\n",
              "      <td>0.015612</td>\n",
              "    </tr>\n",
              "    <tr>\n",
              "      <th>Item_Outlet_Sales</th>\n",
              "      <td>-0.140577</td>\n",
              "      <td>0.567055</td>\n",
              "      <td>1.000000</td>\n",
              "      <td>-0.001563</td>\n",
              "    </tr>\n",
              "    <tr>\n",
              "      <th>RNUM</th>\n",
              "      <td>-0.005946</td>\n",
              "      <td>0.015612</td>\n",
              "      <td>-0.001563</td>\n",
              "      <td>1.000000</td>\n",
              "    </tr>\n",
              "  </tbody>\n",
              "</table>\n",
              "</div>"
            ],
            "text/plain": [
              "                   Item_Visibility  Item_MRP  Item_Outlet_Sales      RNUM\n",
              "Item_Visibility           1.000000 -0.004552          -0.140577 -0.005946\n",
              "Item_MRP                 -0.004552  1.000000           0.567055  0.015612\n",
              "Item_Outlet_Sales        -0.140577  0.567055           1.000000 -0.001563\n",
              "RNUM                     -0.005946  0.015612          -0.001563  1.000000"
            ]
          },
          "metadata": {
            "tags": []
          },
          "execution_count": 29
        }
      ]
    },
    {
      "cell_type": "code",
      "metadata": {
        "id": "e96hH4gROWcW",
        "colab": {
          "base_uri": "https://localhost:8080/",
          "height": 417
        },
        "outputId": "8b113432-2239-4dc5-e617-ad797ee30ccc"
      },
      "source": [
        "sns.heatmap(numeric_features.corr(),cmap='Blues',annot=True)"
      ],
      "execution_count": null,
      "outputs": [
        {
          "output_type": "execute_result",
          "data": {
            "text/plain": [
              "<matplotlib.axes._subplots.AxesSubplot at 0x7f80a05bb080>"
            ]
          },
          "metadata": {
            "tags": []
          },
          "execution_count": 30
        },
        {
          "output_type": "display_data",
          "data": {
            "image/png": "[encoded data removed]",
            "text/plain": [
              "<Figure size 432x288 with 2 Axes>"
            ]
          },
          "metadata": {
            "tags": []
          }
        }
      ]
    },
    {
      "cell_type": "code",
      "metadata": {
        "id": "SfLM2QfkDNm-",
        "colab": {
          "base_uri": "https://localhost:8080/",
          "height": 396
        },
        "outputId": "4554c695-7906-44e4-bf45-fc2652ed3ebd"
      },
      "source": [
        "sns.distplot(data.Item_Outlet_Sales, bins = 25)\n",
        "plt.xlabel(\"Item_Outlet_Sales\")\n",
        "plt.ylabel(\"Number of Sales\")\n",
        "plt.title(\"Item_Outlet_Sales Distribution\")"
      ],
      "execution_count": null,
      "outputs": [
        {
          "output_type": "stream",
          "text": [
            "/usr/local/lib/python3.6/dist-packages/seaborn/distributions.py:2551: FutureWarning: `distplot` is a deprecated function and will be removed in a future version. Please adapt your code to use either `displot` (a figure-level function with similar flexibility) or `histplot` (an axes-level function for histograms).\n",
            "  warnings.warn(msg, FutureWarning)\n"
          ],
          "name": "stderr"
        },
        {
          "output_type": "execute_result",
          "data": {
            "text/plain": [
              "Text(0.5, 1.0, 'Item_Outlet_Sales Distribution')"
            ]
          },
          "metadata": {
            "tags": []
          },
          "execution_count": 8
        },
        {
          "output_type": "display_data",
          "data": {
            "image/png": "[encoded data removed]",
            "text/plain": [
              "<Figure size 432x288 with 1 Axes>"
            ]
          },
          "metadata": {
            "tags": []
          }
        }
      ]
    },
    {
      "cell_type": "code",
      "metadata": {
        "id": "dESJAicJTiDQ",
        "colab": {
          "base_uri": "https://localhost:8080/",
          "height": 694
        },
        "outputId": "26517b5e-9ccc-40c8-97dd-83e4e8559fa4"
      },
      "source": [
        "data.hist(figsize=(12,10))"
      ],
      "execution_count": null,
      "outputs": [
        {
          "output_type": "execute_result",
          "data": {
            "text/plain": [
              "array([[<matplotlib.axes._subplots.AxesSubplot object at 0x7f938f6d2b70>,\n",
              "        <matplotlib.axes._subplots.AxesSubplot object at 0x7f938f573cc0>],\n",
              "       [<matplotlib.axes._subplots.AxesSubplot object at 0x7f938f53c048>,\n",
              "        <matplotlib.axes._subplots.AxesSubplot object at 0x7f938f4ee400>]],\n",
              "      dtype=object)"
            ]
          },
          "metadata": {
            "tags": []
          },
          "execution_count": 10
        },
        {
          "output_type": "display_data",
          "data": {
            "image/png": "[encoded data removed]",
            "text/plain": [
              "<Figure size 864x720 with 4 Axes>"
            ]
          },
          "metadata": {
            "tags": [],
            "needs_background": "light"
          }
        }
      ]
    },
    {
      "cell_type": "code",
      "metadata": {
        "id": "bleVfFnJVtC3",
        "colab": {
          "base_uri": "https://localhost:8080/"
        },
        "outputId": "c5670563-9857-46c6-d585-d3af727f0022"
      },
      "source": [
        "group_item_type = train_df.groupby('Item_Type')\n",
        "group_item_type['Item_Outlet_Sales'].mean().sort_values()\n"
      ],
      "execution_count": null,
      "outputs": [
        {
          "output_type": "execute_result",
          "data": {
            "text/plain": [
              "Item_Type\n",
              "Others                   1897.111190\n",
              "Baking Goods             1964.369595\n",
              "Health and Hygiene       2013.615929\n",
              "Soft Drinks              2043.656861\n",
              "Hard Drinks              2048.770257\n",
              "Breakfast                2149.408481\n",
              "Meat                     2151.097208\n",
              "Frozen Foods             2179.237722\n",
              "Canned                   2183.062516\n",
              "Breads                   2223.493377\n",
              "Snack Foods              2258.300913\n",
              "Household                2258.364355\n",
              "Fruits and Vegetables    2279.086606\n",
              "Dairy                    2295.812356\n",
              "Starchy Foods            2345.464169\n",
              "Seafood                  2419.557148\n",
              "Name: Item_Outlet_Sales, dtype: float64"
            ]
          },
          "metadata": {
            "tags": []
          },
          "execution_count": 42
        }
      ]
    },
    {
      "cell_type": "code",
      "metadata": {
        "id": "DBE7pevXZiUt",
        "colab": {
          "base_uri": "https://localhost:8080/",
          "height": 347
        },
        "outputId": "d5ae964f-01b8-44c8-9aef-18c02a400134"
      },
      "source": [
        "group_outlet_type = data.groupby('Outlet_Type')\n",
        "ot = group_outlet_type['Item_Outlet_Sales'].mean().sort_values()\n",
        "plt.bar(ot.index,ot.values, width = 0.5)\n",
        "plt.xlim(-1,4)\n",
        "plt.xticks(rotation=-45)"
      ],
      "execution_count": null,
      "outputs": [
        {
          "output_type": "execute_result",
          "data": {
            "text/plain": [
              "([0, 1, 2, 3], <a list of 4 Text major ticklabel objects>)"
            ]
          },
          "metadata": {
            "tags": []
          },
          "execution_count": 25
        },
        {
          "output_type": "display_data",
          "data": {
            "image/png": "[encoded data removed]",
            "text/plain": [
              "<Figure size 432x288 with 1 Axes>"
            ]
          },
          "metadata": {
            "tags": [],
            "needs_background": "light"
          }
        }
      ]
    },
    {
      "cell_type": "markdown",
      "metadata": {
        "id": "bhJFsALDLCsN"
      },
      "source": [
        "#Feature Engineering"
      ]
    },
    {
      "cell_type": "code",
      "metadata": {
        "id": "Hpdv80YGITrz",
        "colab": {
          "base_uri": "https://localhost:8080/"
        },
        "outputId": "71202605-a960-4f04-b778-6b7d4728bbbe"
      },
      "source": [
        "print(numeric_features.dtypes)\n",
        "print(categorical_features.dtypes)"
      ],
      "execution_count": null,
      "outputs": [
        {
          "output_type": "stream",
          "text": [
            "Item_Visibility              float64\n",
            "Item_MRP                     float64\n",
            "Outlet_Establishment_Year      int64\n",
            "Item_Outlet_Sales            float64\n",
            "RNUM                         float64\n",
            "GROUP                          int64\n",
            "dtype: object\n",
            "Item_Identifier         object\n",
            "Item_Weight             object\n",
            "Item_Fat_Content        object\n",
            "Item_Type               object\n",
            "Outlet_Identifier       object\n",
            "Outlet_Size             object\n",
            "Outlet_Location_Type    object\n",
            "Outlet_Type             object\n",
            "dtype: object\n"
          ],
          "name": "stdout"
        }
      ]
    },
    {
      "cell_type": "code",
      "metadata": {
        "id": "Jl4Jg9DKm-Y7",
        "colab": {
          "base_uri": "https://localhost:8080/"
        },
        "outputId": "fdecf2c5-92a6-4d3e-f47b-d446937bbf29"
      },
      "source": [
        "#Item_weight type\n",
        "train_df['Item_Weight'] = train_df['Item_Weight'].astype(float)\n",
        "test_df['Item_Weight'] = test_df['Item_Weight'].astype(float)\n",
        "train_df.info()"
      ],
      "execution_count": null,
      "outputs": [
        {
          "output_type": "stream",
          "text": [
            "<class 'pandas.core.frame.DataFrame'>\n",
            "RangeIndex: 6390 entries, 0 to 6389\n",
            "Data columns (total 14 columns):\n",
            " #   Column                     Non-Null Count  Dtype  \n",
            "---  ------                     --------------  -----  \n",
            " 0   Item_Identifier            6390 non-null   object \n",
            " 1   Item_Weight                5284 non-null   float64\n",
            " 2   Item_Fat_Content           6390 non-null   object \n",
            " 3   Item_Visibility            6390 non-null   float64\n",
            " 4   Item_Type                  6390 non-null   object \n",
            " 5   Item_MRP                   6390 non-null   float64\n",
            " 6   Outlet_Identifier          6390 non-null   object \n",
            " 7   Outlet_Establishment_Year  6390 non-null   int64  \n",
            " 8   Outlet_Size                4598 non-null   object \n",
            " 9   Outlet_Location_Type       6390 non-null   object \n",
            " 10  Outlet_Type                6390 non-null   object \n",
            " 11  Item_Outlet_Sales          6390 non-null   float64\n",
            " 12  RNUM                       6390 non-null   float64\n",
            " 13  GROUP                      6390 non-null   int64  \n",
            "dtypes: float64(5), int64(2), object(7)\n",
            "memory usage: 699.0+ KB\n"
          ],
          "name": "stdout"
        }
      ]
    },
    {
      "cell_type": "markdown",
      "metadata": {
        "id": "afPOcTKDrzEN"
      },
      "source": [
        "##Missing Value"
      ]
    },
    {
      "cell_type": "code",
      "metadata": {
        "id": "WvsmQMto129O",
        "colab": {
          "base_uri": "https://localhost:8080/"
        },
        "outputId": "6e1b69cd-41d1-4744-8de0-7c5266cfc849"
      },
      "source": [
        "train_df = train_df.replace(' ',np.nan)\n",
        "test_df = test_df.replace(' ',np.nan)\n",
        "train_df.isna().sum()"
      ],
      "execution_count": null,
      "outputs": [
        {
          "output_type": "execute_result",
          "data": {
            "text/plain": [
              "Item_Identifier                 0\n",
              "Item_Weight                  1106\n",
              "Item_Fat_Content                0\n",
              "Item_Visibility                 0\n",
              "Item_Type                       0\n",
              "Item_MRP                        0\n",
              "Outlet_Identifier               0\n",
              "Outlet_Establishment_Year       0\n",
              "Outlet_Size                  1792\n",
              "Outlet_Location_Type            0\n",
              "Outlet_Type                     0\n",
              "Item_Outlet_Sales               0\n",
              "RNUM                            0\n",
              "GROUP                           0\n",
              "dtype: int64"
            ]
          },
          "metadata": {
            "tags": []
          },
          "execution_count": 11
        }
      ]
    },
    {
      "cell_type": "code",
      "metadata": {
        "id": "VmxSiFeyuk8g"
      },
      "source": [
        "#Drop Outlet_Size\n",
        "train_df = train_df.drop(columns = 'Outlet_Size')\n",
        "test_df = test_df.drop(columns = 'Outlet_Size')"
      ],
      "execution_count": null,
      "outputs": []
    },
    {
      "cell_type": "code",
      "metadata": {
        "id": "-xkB33fmNb9t",
        "colab": {
          "base_uri": "https://localhost:8080/",
          "height": 308
        },
        "outputId": "eaadc5b6-8cc1-4a0c-a1c1-012ef1d57424"
      },
      "source": [
        "train_df[train_df['Item_Identifier']=='DRA24']"
      ],
      "execution_count": null,
      "outputs": [
        {
          "output_type": "execute_result",
          "data": {
            "text/html": [
              "<div>\n",
              "<style scoped>\n",
              "    .dataframe tbody tr th:only-of-type {\n",
              "        vertical-align: middle;\n",
              "    }\n",
              "\n",
              "    .dataframe tbody tr th {\n",
              "        vertical-align: top;\n",
              "    }\n",
              "\n",
              "    .dataframe thead th {\n",
              "        text-align: right;\n",
              "    }\n",
              "</style>\n",
              "<table border=\"1\" class=\"dataframe\">\n",
              "  <thead>\n",
              "    <tr style=\"text-align: right;\">\n",
              "      <th></th>\n",
              "      <th>Item_Identifier</th>\n",
              "      <th>Item_Weight</th>\n",
              "      <th>Item_Fat_Content</th>\n",
              "      <th>Item_Visibility</th>\n",
              "      <th>Item_Type</th>\n",
              "      <th>Item_MRP</th>\n",
              "      <th>Outlet_Identifier</th>\n",
              "      <th>Outlet_Establishment_Year</th>\n",
              "      <th>Outlet_Location_Type</th>\n",
              "      <th>Outlet_Type</th>\n",
              "      <th>Item_Outlet_Sales</th>\n",
              "      <th>RNUM</th>\n",
              "      <th>GROUP</th>\n",
              "    </tr>\n",
              "  </thead>\n",
              "  <tbody>\n",
              "    <tr>\n",
              "      <th>2167</th>\n",
              "      <td>DRA24</td>\n",
              "      <td>NaN</td>\n",
              "      <td>Regular</td>\n",
              "      <td>0.069909</td>\n",
              "      <td>Soft Drinks</td>\n",
              "      <td>163.2868</td>\n",
              "      <td>OUT019</td>\n",
              "      <td>1985</td>\n",
              "      <td>Tier 1</td>\n",
              "      <td>Grocery Store</td>\n",
              "      <td>491.3604</td>\n",
              "      <td>0.636099</td>\n",
              "      <td>1</td>\n",
              "    </tr>\n",
              "    <tr>\n",
              "      <th>3099</th>\n",
              "      <td>DRA24</td>\n",
              "      <td>19.35</td>\n",
              "      <td>Regular</td>\n",
              "      <td>0.066832</td>\n",
              "      <td>Soft Drinks</td>\n",
              "      <td>163.8868</td>\n",
              "      <td>OUT010</td>\n",
              "      <td>1998</td>\n",
              "      <td>Tier 3</td>\n",
              "      <td>Grocery Store</td>\n",
              "      <td>327.5736</td>\n",
              "      <td>0.203904</td>\n",
              "      <td>1</td>\n",
              "    </tr>\n",
              "    <tr>\n",
              "      <th>3328</th>\n",
              "      <td>DRA24</td>\n",
              "      <td>NaN</td>\n",
              "      <td>Regular</td>\n",
              "      <td>0.039735</td>\n",
              "      <td>Soft Drinks</td>\n",
              "      <td>165.7868</td>\n",
              "      <td>OUT027</td>\n",
              "      <td>1985</td>\n",
              "      <td>Tier 3</td>\n",
              "      <td>Supermarket Type3</td>\n",
              "      <td>4913.6040</td>\n",
              "      <td>0.019935</td>\n",
              "      <td>1</td>\n",
              "    </tr>\n",
              "    <tr>\n",
              "      <th>3685</th>\n",
              "      <td>DRA24</td>\n",
              "      <td>19.35</td>\n",
              "      <td>Regular</td>\n",
              "      <td>0.039921</td>\n",
              "      <td>Soft Drinks</td>\n",
              "      <td>163.3868</td>\n",
              "      <td>OUT035</td>\n",
              "      <td>2004</td>\n",
              "      <td>Tier 2</td>\n",
              "      <td>Supermarket Type1</td>\n",
              "      <td>3439.5228</td>\n",
              "      <td>0.502072</td>\n",
              "      <td>1</td>\n",
              "    </tr>\n",
              "    <tr>\n",
              "      <th>5144</th>\n",
              "      <td>DRA24</td>\n",
              "      <td>19.35</td>\n",
              "      <td>Regular</td>\n",
              "      <td>0.039990</td>\n",
              "      <td>Soft Drinks</td>\n",
              "      <td>165.0868</td>\n",
              "      <td>OUT049</td>\n",
              "      <td>1999</td>\n",
              "      <td>Tier 1</td>\n",
              "      <td>Supermarket Type1</td>\n",
              "      <td>982.7208</td>\n",
              "      <td>0.384164</td>\n",
              "      <td>1</td>\n",
              "    </tr>\n",
              "  </tbody>\n",
              "</table>\n",
              "</div>"
            ],
            "text/plain": [
              "     Item_Identifier  Item_Weight  ...      RNUM  GROUP\n",
              "2167           DRA24          NaN  ...  0.636099      1\n",
              "3099           DRA24        19.35  ...  0.203904      1\n",
              "3328           DRA24          NaN  ...  0.019935      1\n",
              "3685           DRA24        19.35  ...  0.502072      1\n",
              "5144           DRA24        19.35  ...  0.384164      1\n",
              "\n",
              "[5 rows x 13 columns]"
            ]
          },
          "metadata": {
            "tags": []
          },
          "execution_count": 13
        }
      ]
    },
    {
      "cell_type": "code",
      "metadata": {
        "id": "oLJsVu3SvmD4"
      },
      "source": [
        "#replace Item_Weight NA with the value with same Item_Identifier\n",
        "train_df['Item_Weight'] = train_df['Item_Weight'].fillna(train_df.groupby('Item_Identifier')['Item_Weight'].transform('mean'))\n",
        "test_df['Item_Weight'] = test_df['Item_Weight'].fillna(test_df.groupby('Item_Identifier')['Item_Weight'].transform('mean'))\n",
        "#train_df['Item_Weight']= train_df.groupby(['Item_Identifier'])['Item_Weight'].fillna(method='bfill').sort_index()\n",
        "#test_df['Item_Weight']= test_df.groupby(['Item_Identifier'])['Item_Weight'].fillna(method='bfill').sort_index()"
      ],
      "execution_count": null,
      "outputs": []
    },
    {
      "cell_type": "code",
      "metadata": {
        "id": "wsHXZiHAprGP",
        "colab": {
          "base_uri": "https://localhost:8080/"
        },
        "outputId": "ee6a26c8-145c-4837-b45c-649ddf5e7364"
      },
      "source": [
        "train_df.isna().sum()"
      ],
      "execution_count": null,
      "outputs": [
        {
          "output_type": "execute_result",
          "data": {
            "text/plain": [
              "Item_Identifier               0\n",
              "Item_Weight                  14\n",
              "Item_Fat_Content              0\n",
              "Item_Visibility               0\n",
              "Item_Type                     0\n",
              "Item_MRP                      0\n",
              "Outlet_Identifier             0\n",
              "Outlet_Establishment_Year     0\n",
              "Outlet_Location_Type          0\n",
              "Outlet_Type                   0\n",
              "Item_Outlet_Sales             0\n",
              "RNUM                          0\n",
              "GROUP                         0\n",
              "dtype: int64"
            ]
          },
          "metadata": {
            "tags": []
          },
          "execution_count": 15
        }
      ]
    },
    {
      "cell_type": "markdown",
      "metadata": {
        "id": "vxwwDrXkqxZY"
      },
      "source": [
        "Missing value for Item_Weight goes down from 1106 to 14 after replaced by the value with same Item_Identifier. The rest missing value will be replaced by the mean value of Item_Weight in each Item_Type."
      ]
    },
    {
      "cell_type": "code",
      "metadata": {
        "id": "v3QsAzJMsD9O"
      },
      "source": [
        "train_df['Item_Weight'] = train_df['Item_Weight'].fillna(train_df.groupby('Item_Type')['Item_Weight'].transform('mean'))\n",
        "test_df['Item_Weight'] = test_df['Item_Weight'].fillna(test_df.groupby('Item_Type')['Item_Weight'].transform('mean'))"
      ],
      "execution_count": null,
      "outputs": []
    },
    {
      "cell_type": "code",
      "metadata": {
        "id": "mScC89ZutQj4",
        "colab": {
          "base_uri": "https://localhost:8080/"
        },
        "outputId": "eb74c51a-6b0e-4d44-c7e0-d8873bdba563"
      },
      "source": [
        "train_df.isna().sum()"
      ],
      "execution_count": null,
      "outputs": [
        {
          "output_type": "execute_result",
          "data": {
            "text/plain": [
              "Item_Identifier              0\n",
              "Item_Weight                  0\n",
              "Item_Fat_Content             0\n",
              "Item_Visibility              0\n",
              "Item_Type                    0\n",
              "Item_MRP                     0\n",
              "Outlet_Identifier            0\n",
              "Outlet_Establishment_Year    0\n",
              "Outlet_Location_Type         0\n",
              "Outlet_Type                  0\n",
              "Item_Outlet_Sales            0\n",
              "RNUM                         0\n",
              "GROUP                        0\n",
              "dtype: int64"
            ]
          },
          "metadata": {
            "tags": []
          },
          "execution_count": 17
        }
      ]
    },
    {
      "cell_type": "code",
      "metadata": {
        "id": "VGCy5lCGLHGI",
        "colab": {
          "base_uri": "https://localhost:8080/",
          "height": 608
        },
        "outputId": "f9521fec-3cb7-4f9d-a437-16f9b581ffc3"
      },
      "source": [
        "#Outlet_Establishment_Year\n",
        "train_df['Outlet_Years'] = 2020 - train_df['Outlet_Establishment_Year']\n",
        "test_df['Outlet_Years'] = 2020 - test_df['Outlet_Establishment_Year']\n",
        "train_df['Outlet_Years'].unique()\n",
        "train_df.drop(columns = 'Outlet_Establishment_Year')\n",
        "train_df.drop(columns = 'Outlet_Establishment_Year')"
      ],
      "execution_count": null,
      "outputs": [
        {
          "output_type": "execute_result",
          "data": {
            "text/html": [
              "<div>\n",
              "<style scoped>\n",
              "    .dataframe tbody tr th:only-of-type {\n",
              "        vertical-align: middle;\n",
              "    }\n",
              "\n",
              "    .dataframe tbody tr th {\n",
              "        vertical-align: top;\n",
              "    }\n",
              "\n",
              "    .dataframe thead th {\n",
              "        text-align: right;\n",
              "    }\n",
              "</style>\n",
              "<table border=\"1\" class=\"dataframe\">\n",
              "  <thead>\n",
              "    <tr style=\"text-align: right;\">\n",
              "      <th></th>\n",
              "      <th>Item_Identifier</th>\n",
              "      <th>Item_Weight</th>\n",
              "      <th>Item_Fat_Content</th>\n",
              "      <th>Item_Visibility</th>\n",
              "      <th>Item_Type</th>\n",
              "      <th>Item_MRP</th>\n",
              "      <th>Outlet_Identifier</th>\n",
              "      <th>Outlet_Location_Type</th>\n",
              "      <th>Outlet_Type</th>\n",
              "      <th>Item_Outlet_Sales</th>\n",
              "      <th>RNUM</th>\n",
              "      <th>GROUP</th>\n",
              "      <th>Outlet_Years</th>\n",
              "    </tr>\n",
              "  </thead>\n",
              "  <tbody>\n",
              "    <tr>\n",
              "      <th>0</th>\n",
              "      <td>FDA15</td>\n",
              "      <td>9.300</td>\n",
              "      <td>Low Fat</td>\n",
              "      <td>0.016047</td>\n",
              "      <td>Dairy</td>\n",
              "      <td>249.8092</td>\n",
              "      <td>OUT049</td>\n",
              "      <td>Tier 1</td>\n",
              "      <td>Supermarket Type1</td>\n",
              "      <td>3735.1380</td>\n",
              "      <td>0.139644</td>\n",
              "      <td>1</td>\n",
              "      <td>21</td>\n",
              "    </tr>\n",
              "    <tr>\n",
              "      <th>1</th>\n",
              "      <td>DRC01</td>\n",
              "      <td>5.920</td>\n",
              "      <td>Regular</td>\n",
              "      <td>0.019278</td>\n",
              "      <td>Soft Drinks</td>\n",
              "      <td>48.2692</td>\n",
              "      <td>OUT018</td>\n",
              "      <td>Tier 3</td>\n",
              "      <td>Supermarket Type2</td>\n",
              "      <td>443.4228</td>\n",
              "      <td>0.431302</td>\n",
              "      <td>1</td>\n",
              "      <td>11</td>\n",
              "    </tr>\n",
              "    <tr>\n",
              "      <th>2</th>\n",
              "      <td>FDN15</td>\n",
              "      <td>17.500</td>\n",
              "      <td>Low Fat</td>\n",
              "      <td>0.016760</td>\n",
              "      <td>Meat</td>\n",
              "      <td>141.6180</td>\n",
              "      <td>OUT049</td>\n",
              "      <td>Tier 1</td>\n",
              "      <td>Supermarket Type1</td>\n",
              "      <td>2097.2700</td>\n",
              "      <td>0.612179</td>\n",
              "      <td>1</td>\n",
              "      <td>21</td>\n",
              "    </tr>\n",
              "    <tr>\n",
              "      <th>3</th>\n",
              "      <td>FDX07</td>\n",
              "      <td>19.200</td>\n",
              "      <td>Regular</td>\n",
              "      <td>0.000000</td>\n",
              "      <td>Fruits and Vegetables</td>\n",
              "      <td>182.0950</td>\n",
              "      <td>OUT010</td>\n",
              "      <td>Tier 3</td>\n",
              "      <td>Grocery Store</td>\n",
              "      <td>732.3800</td>\n",
              "      <td>0.290753</td>\n",
              "      <td>1</td>\n",
              "      <td>22</td>\n",
              "    </tr>\n",
              "    <tr>\n",
              "      <th>4</th>\n",
              "      <td>NCD19</td>\n",
              "      <td>8.930</td>\n",
              "      <td>Low Fat</td>\n",
              "      <td>0.000000</td>\n",
              "      <td>Household</td>\n",
              "      <td>53.8614</td>\n",
              "      <td>OUT013</td>\n",
              "      <td>Tier 3</td>\n",
              "      <td>Supermarket Type1</td>\n",
              "      <td>994.7052</td>\n",
              "      <td>0.155732</td>\n",
              "      <td>1</td>\n",
              "      <td>33</td>\n",
              "    </tr>\n",
              "    <tr>\n",
              "      <th>...</th>\n",
              "      <td>...</td>\n",
              "      <td>...</td>\n",
              "      <td>...</td>\n",
              "      <td>...</td>\n",
              "      <td>...</td>\n",
              "      <td>...</td>\n",
              "      <td>...</td>\n",
              "      <td>...</td>\n",
              "      <td>...</td>\n",
              "      <td>...</td>\n",
              "      <td>...</td>\n",
              "      <td>...</td>\n",
              "      <td>...</td>\n",
              "    </tr>\n",
              "    <tr>\n",
              "      <th>6385</th>\n",
              "      <td>FDF22</td>\n",
              "      <td>6.865</td>\n",
              "      <td>Low Fat</td>\n",
              "      <td>0.056783</td>\n",
              "      <td>Snack Foods</td>\n",
              "      <td>214.5218</td>\n",
              "      <td>OUT013</td>\n",
              "      <td>Tier 3</td>\n",
              "      <td>Supermarket Type1</td>\n",
              "      <td>2778.3834</td>\n",
              "      <td>0.399665</td>\n",
              "      <td>1</td>\n",
              "      <td>33</td>\n",
              "    </tr>\n",
              "    <tr>\n",
              "      <th>6386</th>\n",
              "      <td>FDS36</td>\n",
              "      <td>8.380</td>\n",
              "      <td>Regular</td>\n",
              "      <td>0.046982</td>\n",
              "      <td>Baking Goods</td>\n",
              "      <td>108.1570</td>\n",
              "      <td>OUT045</td>\n",
              "      <td>Tier 2</td>\n",
              "      <td>Supermarket Type1</td>\n",
              "      <td>549.2850</td>\n",
              "      <td>0.511642</td>\n",
              "      <td>1</td>\n",
              "      <td>18</td>\n",
              "    </tr>\n",
              "    <tr>\n",
              "      <th>6387</th>\n",
              "      <td>NCJ29</td>\n",
              "      <td>10.600</td>\n",
              "      <td>Low Fat</td>\n",
              "      <td>0.035186</td>\n",
              "      <td>Health and Hygiene</td>\n",
              "      <td>85.1224</td>\n",
              "      <td>OUT035</td>\n",
              "      <td>Tier 2</td>\n",
              "      <td>Supermarket Type1</td>\n",
              "      <td>1193.1136</td>\n",
              "      <td>0.478188</td>\n",
              "      <td>1</td>\n",
              "      <td>16</td>\n",
              "    </tr>\n",
              "    <tr>\n",
              "      <th>6388</th>\n",
              "      <td>FDN46</td>\n",
              "      <td>7.210</td>\n",
              "      <td>Regular</td>\n",
              "      <td>0.145221</td>\n",
              "      <td>Snack Foods</td>\n",
              "      <td>103.1332</td>\n",
              "      <td>OUT018</td>\n",
              "      <td>Tier 3</td>\n",
              "      <td>Supermarket Type2</td>\n",
              "      <td>1845.5976</td>\n",
              "      <td>0.061866</td>\n",
              "      <td>1</td>\n",
              "      <td>11</td>\n",
              "    </tr>\n",
              "    <tr>\n",
              "      <th>6389</th>\n",
              "      <td>DRG01</td>\n",
              "      <td>14.800</td>\n",
              "      <td>Low Fat</td>\n",
              "      <td>0.044878</td>\n",
              "      <td>Soft Drinks</td>\n",
              "      <td>75.4670</td>\n",
              "      <td>OUT046</td>\n",
              "      <td>Tier 1</td>\n",
              "      <td>Supermarket Type1</td>\n",
              "      <td>765.6700</td>\n",
              "      <td>0.424301</td>\n",
              "      <td>1</td>\n",
              "      <td>23</td>\n",
              "    </tr>\n",
              "  </tbody>\n",
              "</table>\n",
              "<p>6390 rows × 13 columns</p>\n",
              "</div>"
            ],
            "text/plain": [
              "     Item_Identifier  Item_Weight  ... GROUP  Outlet_Years\n",
              "0              FDA15        9.300  ...     1            21\n",
              "1              DRC01        5.920  ...     1            11\n",
              "2              FDN15       17.500  ...     1            21\n",
              "3              FDX07       19.200  ...     1            22\n",
              "4              NCD19        8.930  ...     1            33\n",
              "...              ...          ...  ...   ...           ...\n",
              "6385           FDF22        6.865  ...     1            33\n",
              "6386           FDS36        8.380  ...     1            18\n",
              "6387           NCJ29       10.600  ...     1            16\n",
              "6388           FDN46        7.210  ...     1            11\n",
              "6389           DRG01       14.800  ...     1            23\n",
              "\n",
              "[6390 rows x 13 columns]"
            ]
          },
          "metadata": {
            "tags": []
          },
          "execution_count": 18
        }
      ]
    },
    {
      "cell_type": "code",
      "metadata": {
        "id": "vrcNhU-Iipos",
        "colab": {
          "base_uri": "https://localhost:8080/",
          "height": 351
        },
        "outputId": "9e2695f8-ec04-4dbc-ab8b-14d009e9301b"
      },
      "source": [
        "Fat_mapping = {'low fat':'Low Fat','LF':'Low Fat','reg':'Regular'}\n",
        "train_df['Item_Fat_Content'] = train_df['Item_Fat_Content'].replace(Fat_mapping)\n",
        "sns.countplot(train_df['Item_Fat_Content'])"
      ],
      "execution_count": null,
      "outputs": [
        {
          "output_type": "stream",
          "text": [
            "/usr/local/lib/python3.6/dist-packages/seaborn/_decorators.py:43: FutureWarning: Pass the following variable as a keyword arg: x. From version 0.12, the only valid positional argument will be `data`, and passing other arguments without an explicit keyword will result in an error or misinterpretation.\n",
            "  FutureWarning\n"
          ],
          "name": "stderr"
        },
        {
          "output_type": "execute_result",
          "data": {
            "text/plain": [
              "<matplotlib.axes._subplots.AxesSubplot at 0x7fb9580b45f8>"
            ]
          },
          "metadata": {
            "tags": []
          },
          "execution_count": 19
        },
        {
          "output_type": "display_data",
          "data": {
            "image/png": "[encoded data removed]",
            "text/plain": [
              "<Figure size 432x288 with 1 Axes>"
            ]
          },
          "metadata": {
            "tags": [],
            "needs_background": "light"
          }
        }
      ]
    },
    {
      "cell_type": "code",
      "metadata": {
        "id": "Ie4b3WNW5U60",
        "colab": {
          "base_uri": "https://localhost:8080/"
        },
        "outputId": "be7f8e1c-e330-4c65-b77c-a21948b1e267"
      },
      "source": [
        "categorical_features.columns"
      ],
      "execution_count": null,
      "outputs": [
        {
          "output_type": "execute_result",
          "data": {
            "text/plain": [
              "Index(['Item_Identifier', 'Item_Weight', 'Item_Fat_Content', 'Item_Type',\n",
              "       'Outlet_Identifier', 'Outlet_Size', 'Outlet_Location_Type',\n",
              "       'Outlet_Type'],\n",
              "      dtype='object')"
            ]
          },
          "metadata": {
            "tags": []
          },
          "execution_count": 20
        }
      ]
    },
    {
      "cell_type": "code",
      "metadata": {
        "id": "055HwsuZ4z2N",
        "colab": {
          "base_uri": "https://localhost:8080/"
        },
        "outputId": "d380d62e-9d10-4a57-c077-6eabafcfa422"
      },
      "source": [
        "pd.concat([train_df['Item_Identifier'], test_df['Item_Identifier']], axis=0, sort=False)[2132]"
      ],
      "execution_count": null,
      "outputs": [
        {
          "output_type": "execute_result",
          "data": {
            "text/plain": [
              "2132    171\n",
              "2132    389\n",
              "Name: Item_Identifier, dtype: int64"
            ]
          },
          "metadata": {
            "tags": []
          },
          "execution_count": 27
        }
      ]
    },
    {
      "cell_type": "markdown",
      "metadata": {
        "id": "-wpygsVE_aBu"
      },
      "source": [
        "##Encode"
      ]
    },
    {
      "cell_type": "code",
      "metadata": {
        "id": "BziEPjIZAk5F"
      },
      "source": [
        "from sklearn.preprocessing import LabelEncoder\n",
        "encoder = LabelEncoder()\n",
        "col = 'Item_Identifier'\n",
        "encoder.fit(pd.concat([train_df[col], test_df[col]], axis=0, sort=False))\n",
        "train_df[col] = encoder.transform(train_df[col])\n",
        "test_df[col] = encoder.transform(test_df[col])"
      ],
      "execution_count": null,
      "outputs": []
    },
    {
      "cell_type": "code",
      "metadata": {
        "id": "aslFxQGbBllJ",
        "colab": {
          "base_uri": "https://localhost:8080/"
        },
        "outputId": "6a4547fd-ff2e-448f-a284-c6280e8b833d"
      },
      "source": [
        "train_df[col]"
      ],
      "execution_count": null,
      "outputs": [
        {
          "output_type": "execute_result",
          "data": {
            "text/plain": [
              "0        156\n",
              "1          8\n",
              "2        662\n",
              "3       1121\n",
              "4       1297\n",
              "        ... \n",
              "6385     370\n",
              "6386     897\n",
              "6387    1357\n",
              "6388     681\n",
              "6389      50\n",
              "Name: Item_Identifier, Length: 6390, dtype: int64"
            ]
          },
          "metadata": {
            "tags": []
          },
          "execution_count": 22
        }
      ]
    },
    {
      "cell_type": "code",
      "metadata": {
        "id": "uJ_cA3-kf109",
        "colab": {
          "base_uri": "https://localhost:8080/"
        },
        "outputId": "2a5bb70f-d5fb-4e7e-810b-7c9b4f35f57d"
      },
      "source": [
        "'''\n",
        "#labelEcode\n",
        "from sklearn.preprocessing import LabelEncoder\n",
        "encoder = LabelEncoder()\n",
        "\n",
        "# fit and transform feature x2\n",
        "for col in categorical_features.columns.astype('object'):\n",
        "    print(col)\n",
        "    encoder = LabelEncoder()\n",
        "    encoder.fit(pd.concat([train_df[col], test_df[col]], axis=0, sort=False))\n",
        "    train_df[col] = encoder.transform(train_df[col])\n",
        "    test_df[col] = encoder.transform(test_df[col])\n",
        "    \n",
        "print(train_df.head(), '\\n')\n",
        "print(test_df.head(), '\\n')"
      ],
      "execution_count": null,
      "outputs": [
        {
          "output_type": "stream",
          "text": [
            "Item_Identifier\n",
            "Item_Fat_Content\n",
            "Item_Type\n",
            "Outlet_Identifier\n",
            "Outlet_Location_Type\n",
            "Outlet_Type\n",
            "   Item_Identifier  Item_Weight  ...  GROUP  Outlet_Years\n",
            "0              156         9.30  ...      1            21\n",
            "1                8         5.92  ...      1            11\n",
            "2              662        17.50  ...      1            21\n",
            "3             1121        19.20  ...      1            22\n",
            "4             1297         8.93  ...      1            33\n",
            "\n",
            "[5 rows x 14 columns] \n",
            "\n",
            "   Item_Identifier  Item_Weight  ...  Item_Outlet_Sales  Outlet_Years\n",
            "0              767         9.00  ...                NaN            23\n",
            "1             1294        13.00  ...                NaN            13\n",
            "2             1032        20.20  ...                NaN            35\n",
            "3              567         9.80  ...                NaN            33\n",
            "4              641         6.42  ...                NaN            22\n",
            "\n",
            "[5 rows x 13 columns] \n",
            "\n"
          ],
          "name": "stdout"
        }
      ]
    },
    {
      "cell_type": "code",
      "metadata": {
        "id": "6DYDdOLWzcJ1",
        "colab": {
          "base_uri": "https://localhost:8080/",
          "height": 326
        },
        "outputId": "35ccd47c-4eee-4c97-cf94-9f68a9d5d9c0"
      },
      "source": [
        "train_df[categorical_features.columns].head()"
      ],
      "execution_count": null,
      "outputs": [
        {
          "output_type": "error",
          "ename": "KeyError",
          "evalue": "ignored",
          "traceback": [
            "\u001b[0;31m---------------------------------------------------------------------------\u001b[0m",
            "\u001b[0;31mKeyError\u001b[0m                                  Traceback (most recent call last)",
            "\u001b[0;32m<ipython-input-23-afa33738bc84>\u001b[0m in \u001b[0;36m<module>\u001b[0;34m()\u001b[0m\n\u001b[0;32m----> 1\u001b[0;31m \u001b[0mtrain_df\u001b[0m\u001b[0;34m[\u001b[0m\u001b[0mcategorical_features\u001b[0m\u001b[0;34m.\u001b[0m\u001b[0mcolumns\u001b[0m\u001b[0;34m]\u001b[0m\u001b[0;34m.\u001b[0m\u001b[0mhead\u001b[0m\u001b[0;34m(\u001b[0m\u001b[0;34m)\u001b[0m\u001b[0;34m\u001b[0m\u001b[0;34m\u001b[0m\u001b[0m\n\u001b[0m",
            "\u001b[0;32m/usr/local/lib/python3.6/dist-packages/pandas/core/frame.py\u001b[0m in \u001b[0;36m__getitem__\u001b[0;34m(self, key)\u001b[0m\n\u001b[1;32m   2910\u001b[0m             \u001b[0;32mif\u001b[0m \u001b[0mis_iterator\u001b[0m\u001b[0;34m(\u001b[0m\u001b[0mkey\u001b[0m\u001b[0;34m)\u001b[0m\u001b[0;34m:\u001b[0m\u001b[0;34m\u001b[0m\u001b[0;34m\u001b[0m\u001b[0m\n\u001b[1;32m   2911\u001b[0m                 \u001b[0mkey\u001b[0m \u001b[0;34m=\u001b[0m \u001b[0mlist\u001b[0m\u001b[0;34m(\u001b[0m\u001b[0mkey\u001b[0m\u001b[0;34m)\u001b[0m\u001b[0;34m\u001b[0m\u001b[0;34m\u001b[0m\u001b[0m\n\u001b[0;32m-> 2912\u001b[0;31m             \u001b[0mindexer\u001b[0m \u001b[0;34m=\u001b[0m \u001b[0mself\u001b[0m\u001b[0;34m.\u001b[0m\u001b[0mloc\u001b[0m\u001b[0;34m.\u001b[0m\u001b[0m_get_listlike_indexer\u001b[0m\u001b[0;34m(\u001b[0m\u001b[0mkey\u001b[0m\u001b[0;34m,\u001b[0m \u001b[0maxis\u001b[0m\u001b[0;34m=\u001b[0m\u001b[0;36m1\u001b[0m\u001b[0;34m,\u001b[0m \u001b[0mraise_missing\u001b[0m\u001b[0;34m=\u001b[0m\u001b[0;32mTrue\u001b[0m\u001b[0;34m)\u001b[0m\u001b[0;34m[\u001b[0m\u001b[0;36m1\u001b[0m\u001b[0;34m]\u001b[0m\u001b[0;34m\u001b[0m\u001b[0;34m\u001b[0m\u001b[0m\n\u001b[0m\u001b[1;32m   2913\u001b[0m \u001b[0;34m\u001b[0m\u001b[0m\n\u001b[1;32m   2914\u001b[0m         \u001b[0;31m# take() does not accept boolean indexers\u001b[0m\u001b[0;34m\u001b[0m\u001b[0;34m\u001b[0m\u001b[0;34m\u001b[0m\u001b[0m\n",
            "\u001b[0;32m/usr/local/lib/python3.6/dist-packages/pandas/core/indexing.py\u001b[0m in \u001b[0;36m_get_listlike_indexer\u001b[0;34m(self, key, axis, raise_missing)\u001b[0m\n\u001b[1;32m   1252\u001b[0m             \u001b[0mkeyarr\u001b[0m\u001b[0;34m,\u001b[0m \u001b[0mindexer\u001b[0m\u001b[0;34m,\u001b[0m \u001b[0mnew_indexer\u001b[0m \u001b[0;34m=\u001b[0m \u001b[0max\u001b[0m\u001b[0;34m.\u001b[0m\u001b[0m_reindex_non_unique\u001b[0m\u001b[0;34m(\u001b[0m\u001b[0mkeyarr\u001b[0m\u001b[0;34m)\u001b[0m\u001b[0;34m\u001b[0m\u001b[0;34m\u001b[0m\u001b[0m\n\u001b[1;32m   1253\u001b[0m \u001b[0;34m\u001b[0m\u001b[0m\n\u001b[0;32m-> 1254\u001b[0;31m         \u001b[0mself\u001b[0m\u001b[0;34m.\u001b[0m\u001b[0m_validate_read_indexer\u001b[0m\u001b[0;34m(\u001b[0m\u001b[0mkeyarr\u001b[0m\u001b[0;34m,\u001b[0m \u001b[0mindexer\u001b[0m\u001b[0;34m,\u001b[0m \u001b[0maxis\u001b[0m\u001b[0;34m,\u001b[0m \u001b[0mraise_missing\u001b[0m\u001b[0;34m=\u001b[0m\u001b[0mraise_missing\u001b[0m\u001b[0;34m)\u001b[0m\u001b[0;34m\u001b[0m\u001b[0;34m\u001b[0m\u001b[0m\n\u001b[0m\u001b[1;32m   1255\u001b[0m         \u001b[0;32mreturn\u001b[0m \u001b[0mkeyarr\u001b[0m\u001b[0;34m,\u001b[0m \u001b[0mindexer\u001b[0m\u001b[0;34m\u001b[0m\u001b[0;34m\u001b[0m\u001b[0m\n\u001b[1;32m   1256\u001b[0m \u001b[0;34m\u001b[0m\u001b[0m\n",
            "\u001b[0;32m/usr/local/lib/python3.6/dist-packages/pandas/core/indexing.py\u001b[0m in \u001b[0;36m_validate_read_indexer\u001b[0;34m(self, key, indexer, axis, raise_missing)\u001b[0m\n\u001b[1;32m   1302\u001b[0m             \u001b[0;32mif\u001b[0m \u001b[0mraise_missing\u001b[0m\u001b[0;34m:\u001b[0m\u001b[0;34m\u001b[0m\u001b[0;34m\u001b[0m\u001b[0m\n\u001b[1;32m   1303\u001b[0m                 \u001b[0mnot_found\u001b[0m \u001b[0;34m=\u001b[0m \u001b[0mlist\u001b[0m\u001b[0;34m(\u001b[0m\u001b[0mset\u001b[0m\u001b[0;34m(\u001b[0m\u001b[0mkey\u001b[0m\u001b[0;34m)\u001b[0m \u001b[0;34m-\u001b[0m \u001b[0mset\u001b[0m\u001b[0;34m(\u001b[0m\u001b[0max\u001b[0m\u001b[0;34m)\u001b[0m\u001b[0;34m)\u001b[0m\u001b[0;34m\u001b[0m\u001b[0;34m\u001b[0m\u001b[0m\n\u001b[0;32m-> 1304\u001b[0;31m                 \u001b[0;32mraise\u001b[0m \u001b[0mKeyError\u001b[0m\u001b[0;34m(\u001b[0m\u001b[0;34mf\"{not_found} not in index\"\u001b[0m\u001b[0;34m)\u001b[0m\u001b[0;34m\u001b[0m\u001b[0;34m\u001b[0m\u001b[0m\n\u001b[0m\u001b[1;32m   1305\u001b[0m \u001b[0;34m\u001b[0m\u001b[0m\n\u001b[1;32m   1306\u001b[0m             \u001b[0;31m# we skip the warning on Categorical\u001b[0m\u001b[0;34m\u001b[0m\u001b[0;34m\u001b[0m\u001b[0;34m\u001b[0m\u001b[0m\n",
            "\u001b[0;31mKeyError\u001b[0m: \"['Outlet_Size'] not in index\""
          ]
        }
      ]
    },
    {
      "cell_type": "markdown",
      "metadata": {
        "id": "5C2G1xhSz_gd"
      },
      "source": [
        "Since there are too many levels in 'Item_Identifier', we will not convert it into dummy variables and will not put it into model if the model cannot deal with categorical variables."
      ]
    },
    {
      "cell_type": "code",
      "metadata": {
        "id": "oxY7M34X0uWX"
      },
      "source": [
        "train_df = pd.get_dummies(train_df, columns =['Item_Fat_Content','Item_Type','Outlet_Identifier','Outlet_Location_Type','Outlet_Location_Type','Outlet_Type']\n",
        "               ,drop_first = True)\n",
        "test_df = pd.get_dummies(test_df, columns =['Item_Fat_Content','Item_Type','Outlet_Identifier','Outlet_Location_Type','Outlet_Location_Type','Outlet_Type']\n",
        "               ,drop_first = True)"
      ],
      "execution_count": null,
      "outputs": []
    },
    {
      "cell_type": "code",
      "metadata": {
        "id": "16r0Owko31JN",
        "colab": {
          "base_uri": "https://localhost:8080/"
        },
        "outputId": "7489576c-b0a8-406a-cab7-a2c959db4961"
      },
      "source": [
        "test_df.dtypes"
      ],
      "execution_count": null,
      "outputs": [
        {
          "output_type": "execute_result",
          "data": {
            "text/plain": [
              "Item_Identifier                      int64\n",
              "Item_Weight                        float64\n",
              "Item_Visibility                    float64\n",
              "Item_MRP                           float64\n",
              "Outlet_Establishment_Year            int64\n",
              "GROUP                                int64\n",
              "Item_Outlet_Sales                  float64\n",
              "Outlet_Years                         int64\n",
              "Item_Fat_Content_Low Fat             uint8\n",
              "Item_Fat_Content_Regular             uint8\n",
              "Item_Fat_Content_low fat             uint8\n",
              "Item_Fat_Content_reg                 uint8\n",
              "Item_Type_Breads                     uint8\n",
              "Item_Type_Breakfast                  uint8\n",
              "Item_Type_Canned                     uint8\n",
              "Item_Type_Dairy                      uint8\n",
              "Item_Type_Frozen Foods               uint8\n",
              "Item_Type_Fruits and Vegetables      uint8\n",
              "Item_Type_Hard Drinks                uint8\n",
              "Item_Type_Health and Hygiene         uint8\n",
              "Item_Type_Household                  uint8\n",
              "Item_Type_Meat                       uint8\n",
              "Item_Type_Others                     uint8\n",
              "Item_Type_Seafood                    uint8\n",
              "Item_Type_Snack Foods                uint8\n",
              "Item_Type_Soft Drinks                uint8\n",
              "Item_Type_Starchy Foods              uint8\n",
              "Outlet_Identifier_OUT013             uint8\n",
              "Outlet_Identifier_OUT017             uint8\n",
              "Outlet_Identifier_OUT018             uint8\n",
              "Outlet_Identifier_OUT019             uint8\n",
              "Outlet_Identifier_OUT027             uint8\n",
              "Outlet_Identifier_OUT035             uint8\n",
              "Outlet_Identifier_OUT045             uint8\n",
              "Outlet_Identifier_OUT046             uint8\n",
              "Outlet_Identifier_OUT049             uint8\n",
              "Outlet_Location_Type_Tier 2          uint8\n",
              "Outlet_Location_Type_Tier 3          uint8\n",
              "Outlet_Location_Type_Tier 2          uint8\n",
              "Outlet_Location_Type_Tier 3          uint8\n",
              "Outlet_Type_Supermarket Type1        uint8\n",
              "Outlet_Type_Supermarket Type2        uint8\n",
              "Outlet_Type_Supermarket Type3        uint8\n",
              "dtype: object"
            ]
          },
          "metadata": {
            "tags": []
          },
          "execution_count": 28
        }
      ]
    },
    {
      "cell_type": "code",
      "metadata": {
        "id": "CJayjnPd5yic"
      },
      "source": [
        "train_df.to_csv(\"/content/drive/Shared drives/MSBA 446 Second Half/2-2B/train_modified.csv\",index=False)\n",
        "test_df.to_csv(\"/content/drive/Shared drives/MSBA 446 Second Half/2-2B/test_modified.csv\",index=False)"
      ],
      "execution_count": null,
      "outputs": []
    }
  ]
}